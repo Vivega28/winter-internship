{
 "cells": [
  {
   "cell_type": "markdown",
   "metadata": {
    "id": "fxZte1ZuP3yr"
   },
   "source": [
    "# Problem statement\n",
    "\n",
    "Create famous 'Frog leap' puzzle game. Try completing the game before starting to get an idea about its working.\n",
    "\n",
    "\n",
    "\n",
    "### Rules\n",
    "1. The left set of frogs can only move right, the right set of frogs ca`~n only move left.\n",
    "2. Frogs can move forward one space, or move two spaces by jumping over another frog from opposite side.\n",
    "3. The puzzle is solved when the two sets of frogs have switched positions.\n",
    "\n",
    "\n",
    "## Steps to solve the problem:\n",
    "### Step1:-\n",
    "- Display green and brown frogs on the left and right sides initially.\n",
    "\n",
    "Initial Display :-  \n",
    "```\n",
    "[ 0 ,  1 ,  2 ,  3 ,  4 ,  5 ,  6 ]\n",
    "['G', 'G', 'G', '-', 'B', 'B', 'B']\n",
    "```\n",
    "<br>\n",
    "Here 'G' represents Green frogs on the left side and 'B' represents brown frogs on the right side. The '-' defines the position of empty leaf.\n",
    "(You can change display according to your imagination or convinience)\n",
    "\n",
    "### Step2:-\n",
    "Accept positions of the frog that you want to move.<br>\n",
    "Example: If we enter position 2 then the game will look like this:-\n",
    "```\n",
    "[ 0 ,  1 ,  2 ,  3 ,  4 ,  5 ,  6 ]\n",
    "['G', 'G', '-', 'G', 'B', 'B', 'B']\n",
    "```\n",
    "\n",
    "### Step3:- ###\n",
    "Define Invalid moves and add conditional 'if' statements accordingly\n",
    "#### Rules\n",
    "1. Entered position should be between 0 to 6. Or a character 'q' to quit the game.\n",
    "2. Entered position cannot be the position of empty leaf.\n",
    "3. If the selected frog position cannot perform the contraints given in rule 2 then the move is invalid.\n",
    "\n",
    "### Step4:-\n",
    "Make the appropriate move by changing the game display."
   ]
  },
  {
   "cell_type": "markdown",
   "metadata": {
    "id": "-viYJbAFQXcJ"
   },
   "source": [
    "## Step 1\n",
    "First create a list `positions` which contains the characters 'G','B' and '-' in the same sequence as given in the initial display state."
   ]
  },
  {
   "cell_type": "code",
   "execution_count": null,
   "metadata": {
    "colab": {
     "base_uri": "https://localhost:8080/"
    },
    "executionInfo": {
     "elapsed": 16,
     "status": "ok",
     "timestamp": 1705573224388,
     "user": {
      "displayName": "Vivega B",
      "userId": "02648695287076950773"
     },
     "user_tz": -330
    },
    "id": "fSvLBrjwP0sr",
    "outputId": "26c32603-cee8-4c5a-cca6-4fccae7fa642"
   },
   "outputs": [
    {
     "name": "stdout",
     "output_type": "stream",
     "text": [
      "Current positions:\n",
      "[ 0 1 2 3 4 5 6 ]\n",
      "['G', 'G', 'G', '-', 'B', 'B', 'B']\n"
     ]
    }
   ],
   "source": [
    "initial_display = ['G', 'G', 'G', '-', 'B', 'B', 'B']\n",
    "positions = initial_display.copy()\n",
    "\n",
    "# Display the positions\n",
    "print(\"Current positions:\")\n",
    "print(\"[\", end=\" \")\n",
    "for i in range(len(positions)):\n",
    "    print(i, end=\" \")\n",
    "print(\"]\")\n",
    "print(positions)\n"
   ]
  },
  {
   "cell_type": "markdown",
   "metadata": {
    "id": "unr1AJLSQj_4"
   },
   "source": [
    "Now print this string ```[ 0 ,  1 ,  2 ,  3 ,  4 ,  5 ,  6 ]``` and after that print the list `positions`"
   ]
  },
  {
   "cell_type": "code",
   "execution_count": null,
   "metadata": {
    "colab": {
     "base_uri": "https://localhost:8080/"
    },
    "executionInfo": {
     "elapsed": 555,
     "status": "ok",
     "timestamp": 1705573336689,
     "user": {
      "displayName": "Vivega B",
      "userId": "02648695287076950773"
     },
     "user_tz": -330
    },
    "id": "qqKLcfEmQgiZ",
    "outputId": "071fa754-308b-48ad-b879-1d2125a95a2f"
   },
   "outputs": [
    {
     "name": "stdout",
     "output_type": "stream",
     "text": [
      "[ 0 1 2 3 4 5 6 ]\n",
      "['G', 'G', 'G', '-', 'B', 'B', 'B']\n"
     ]
    }
   ],
   "source": [
    "# Print the string [ 0 , 1 , 2 , 3 , 4 , 5 , 6 ]\n",
    "print(\"[\", end=\" \")\n",
    "for i in range(len(positions)):\n",
    "    print(i, end=\" \")\n",
    "print(\"]\")\n",
    "\n",
    "# Print the list positions\n",
    "print(positions)\n",
    "\n"
   ]
  },
  {
   "cell_type": "markdown",
   "metadata": {
    "id": "DuEVsgtjQqXV"
   },
   "source": [
    "Take position input from user and write a message as `\"Press q to quit else \\nEnter position of piece:\"`."
   ]
  },
  {
   "cell_type": "code",
   "execution_count": null,
   "metadata": {
    "colab": {
     "base_uri": "https://localhost:8080/"
    },
    "executionInfo": {
     "elapsed": 8274,
     "status": "ok",
     "timestamp": 1705573448311,
     "user": {
      "displayName": "Vivega B",
      "userId": "02648695287076950773"
     },
     "user_tz": -330
    },
    "id": "nPz65EKXQnDR",
    "outputId": "320deadb-1204-4739-be18-d143688b6cc2"
   },
   "outputs": [
    {
     "name": "stdout",
     "output_type": "stream",
     "text": [
      "Press 'q' to quit, else\n",
      "Enter position of piece: 2\n"
     ]
    }
   ],
   "source": [
    "user_input = input(\"Press 'q' to quit, else\\nEnter position of piece: \")\n",
    "\n"
   ]
  },
  {
   "cell_type": "code",
   "execution_count": null,
   "metadata": {
    "colab": {
     "base_uri": "https://localhost:8080/"
    },
    "executionInfo": {
     "elapsed": 903,
     "status": "ok",
     "timestamp": 1705573536791,
     "user": {
      "displayName": "Vivega B",
      "userId": "02648695287076950773"
     },
     "user_tz": -330
    },
    "id": "AeLStFHJERAa",
    "outputId": "3cc75fe9-17ab-4a29-ac92-aa3f55ba25b8"
   },
   "outputs": [
    {
     "name": "stdout",
     "output_type": "stream",
     "text": [
      "<class 'str'>\n"
     ]
    }
   ],
   "source": [
    "print(type(user_input))\n"
   ]
  },
  {
   "cell_type": "markdown",
   "metadata": {
    "id": "ejy_x_eTRJmT"
   },
   "source": [
    "Now the taken input is in string format. So first check if the input is `'q'` character. If input is `'q'` then the person is quiting the game so print `'You Lose'`."
   ]
  },
  {
   "cell_type": "code",
   "execution_count": null,
   "metadata": {
    "id": "1OrsC7P9QxO6"
   },
   "outputs": [],
   "source": [
    "if user_input.lower() == 'q':\n",
    "    print(\"You Lose\")\n"
   ]
  },
  {
   "cell_type": "markdown",
   "metadata": {
    "id": "yZJeDTGlRSMe"
   },
   "source": [
    "Next if input character is not `'q'` then it has to be some integer. so convert input to integer format."
   ]
  },
  {
   "cell_type": "code",
   "execution_count": null,
   "metadata": {
    "id": "PWZj_Js6RP2G"
   },
   "outputs": [],
   "source": [
    "if user_input.lower() == 'q':\n",
    "    print(\"You Lose\")\n",
    "else:\n",
    "    pos = int(user_input)\n"
   ]
  },
  {
   "cell_type": "markdown",
   "metadata": {
    "id": "SyCzN-cYRXZa"
   },
   "source": [
    "## Step 2\n",
    "Now we have to check validity of the selected positions or move.<br>\n",
    "If the entered number isn't between 0 and 6, then print 'Invalid move'."
   ]
  },
  {
   "cell_type": "code",
   "execution_count": null,
   "metadata": {
    "id": "8_edLqe2RU8S"
   },
   "outputs": [],
   "source": [
    "if pos < 0 or pos > 6:\n",
    "    print(\"Invalid move\")\n"
   ]
  },
  {
   "cell_type": "markdown",
   "metadata": {
    "id": "Va03g0l5Rlkx"
   },
   "source": [
    "A frog should be present on the selected position to make a move. If leaf is selected then it doesn't make sense. Therefore, if entered postition is same as the postition of empty leaf then the move is invalid and print `Invalid Move`"
   ]
  },
  {
   "cell_type": "code",
   "execution_count": null,
   "metadata": {
    "id": "uM2-D1xGRiH4"
   },
   "outputs": [],
   "source": [
    "\n",
    "\n",
    "if pos < 0 or pos > 6:\n",
    "    print(\"Invalid move\")\n",
    "elif positions[pos] == '-':\n",
    "    print(\"Invalid move\")\n",
    "\n",
    "]\n"
   ]
  },
  {
   "cell_type": "markdown",
   "metadata": {
    "id": "cp5q2ahQTnwI"
   },
   "source": [
    "Initialize a variable named `pos2` at value 0, to store the index of empty leaf, so that we can use it later."
   ]
  },
  {
   "cell_type": "code",
   "execution_count": null,
   "metadata": {
    "id": "1SkBYDnaTpiV"
   },
   "outputs": [],
   "source": [
    "pos2 = 0\n"
   ]
  },
  {
   "cell_type": "markdown",
   "metadata": {
    "id": "V9UFD623R3Oa"
   },
   "source": [
    "```   \n",
    "    Check if the selected frog is 'G':\n",
    "  \n",
    "        (Inside if when it's 'G'. As 'G' is selected frog can move to right only.)\n",
    "        \n",
    "        ❗condition 1\n",
    "\n",
    "        If **selected_position + 1** is less than or equal to 6 and **curent_position + 1** contains '-'\n",
    "        then it's a valid move and store that postion in `pos2`.\n",
    "        \n",
    "        ❗condition2\n",
    "\n",
    "        Else if **selected_position + 2** is less than or equal to 6 and if **current_position + 2**\n",
    "        contains '-' and if **selected_position + 1** contains 'B' then it's a valid move  and store that postion in `pos2`.\n",
    "        \n",
    "        ❗condition3:\n",
    "\n",
    "        Else remainig all are invalid, so print `Invalid Move`\n",
    "      \n",
    "```"
   ]
  },
  {
   "cell_type": "code",
   "execution_count": null,
   "metadata": {
    "id": "IDHxpibURriq"
   },
   "outputs": [],
   "source": [
    "if positions[pos] == 'G':\n",
    "    # Condition 1\n",
    "    if pos + 1 <= 6 and positions[pos + 1] == '-':\n",
    "        pos2 = pos + 1\n",
    "    # Condition 2\n",
    "    elif pos + 2 <= 6 and positions[pos + 2] == '-' and positions[pos + 1] == 'B':\n",
    "        pos2 = pos + 2\n",
    "    # Condition 3\n",
    "    else:\n",
    "        print(\"Invalid Move\")\n"
   ]
  },
  {
   "cell_type": "markdown",
   "metadata": {
    "id": "DyQX5nUsTZPF"
   },
   "source": [
    "```\n",
    "    Check if the selected frog is 'B':\n",
    "    \n",
    "        (Inside if when it's 'B'. As 'B' is selected frog can move to left only.)\n",
    "        \n",
    "        ❗condition1:\n",
    "\n",
    "        If **selected_position - 1** is more than or equal to 0 and **curent_position - 1** contains '-' then\n",
    "        it's a valid move and and store that postion in `pos2`.\n",
    "        \n",
    "        ❗condition2:\n",
    "\n",
    "        Else if **selected_position - 2** is more than or equal to 0 and if **current_position - 2** contains '-'\n",
    "        and if **selected_position - 1** contains 'G' then it's a valid move and and store that postion in `pos2`.\n",
    "\n",
    "        ❗condition3:\n",
    "        \n",
    "        Else remainig all are invalid,, so print `Invalid Move`.\n",
    "        \n",
    "```"
   ]
  },
  {
   "cell_type": "code",
   "execution_count": null,
   "metadata": {
    "id": "cQ2G3ZO_TWU5"
   },
   "outputs": [],
   "source": [
    "if positions[pos] == 'B':\n",
    "    # Condition 1\n",
    "    if pos - 1 >= 0 and positions[pos - 1] == '-':\n",
    "        pos2 = pos - 1\n",
    "    # Condition 2\n",
    "    elif pos - 2 >= 0 and positions[pos - 2] == '-' and positions[pos - 1] == 'G':\n",
    "        pos2 = pos - 2\n",
    "    # Condition 3\n",
    "    else:\n",
    "        print(\"Invalid Move\")\n",
    "\n",
    "\n",
    "\n",
    "\n",
    "\n",
    "\n"
   ]
  },
  {
   "cell_type": "markdown",
   "metadata": {
    "id": "Vads2oztUd4g"
   },
   "source": [
    "Swap the element at selected positions and calculated position2 in the list.<br> So basically we are moving the frog to next valid position by swapping elelments of array."
   ]
  },
  {
   "cell_type": "code",
   "execution_count": null,
   "metadata": {
    "id": "jXOGtww7UeYQ"
   },
   "outputs": [],
   "source": [
    "if positions[pos] == 'G':\n",
    "    # Condition 1\n",
    "    if pos + 1 <= 6 and positions[pos + 1] == '-':\n",
    "        pos2 = pos + 1\n",
    "    # Condition 2\n",
    "    elif pos + 2 <= 6 and positions[pos + 2] == '-' and positions[pos + 1] == 'B':\n",
    "        pos2 = pos + 2\n",
    "    # Condition 3\n",
    "    else:\n",
    "        print(\"Invalid Move\")\n",
    "\n",
    "    # Swap elements at selected position and pos2\n",
    "    positions[pos], positions[pos2] = positions[pos2], positions[pos]\n",
    "\n",
    "elif positions[pos] == 'B':\n",
    "    # Condition 1\n",
    "    if pos - 1 >= 0 and positions[pos - 1] == '-':\n",
    "        pos2 = pos - 1\n",
    "    # Condition 2\n",
    "    elif pos - 2 >= 0 and positions[pos - 2] == '-' and positions[pos - 1] == 'G':\n",
    "        pos2 = pos - 2\n",
    "    # Condition 3\n",
    "    else:\n",
    "        print(\"Invalid Move\")\n",
    "\n",
    "    # Swap elements at selected position and pos2\n",
    "    positions[pos], positions[pos2] = positions[pos2], positions[pos]\n"
   ]
  },
  {
   "cell_type": "markdown",
   "metadata": {
    "id": "8qF4Q2HsUlZ4"
   },
   "source": [
    "Now print the display of the game again to see the change.<br>\n",
    "If we enter position 2 then the output will look like this:-\n",
    "```\n",
    "[ 0 ,  1 ,  2 ,  3 ,  4 ,  5 ,  6 ]\n",
    "['G', 'G', '-', 'G', 'B', 'B', 'B']\n",
    "```"
   ]
  },
  {
   "cell_type": "code",
   "execution_count": null,
   "metadata": {
    "colab": {
     "base_uri": "https://localhost:8080/"
    },
    "executionInfo": {
     "elapsed": 12,
     "status": "ok",
     "timestamp": 1705574587395,
     "user": {
      "displayName": "Vivega B",
      "userId": "02648695287076950773"
     },
     "user_tz": -330
    },
    "id": "0S3oNzG3UifK",
    "outputId": "15573f66-54d4-452f-9a4f-535508f7da0e"
   },
   "outputs": [
    {
     "name": "stdout",
     "output_type": "stream",
     "text": [
      "[ 0 1 2 3 4 5 6 ]\n",
      "['G', 'G', '-', 'G', 'B', 'B', 'B']\n"
     ]
    }
   ],
   "source": [
    "# Print the updated display\n",
    "print(\"[\", end=\" \")\n",
    "for i in range(len(positions)):\n",
    "    print(i, end=\" \")\n",
    "print(\"]\")\n",
    "\n",
    "print(positions)\n"
   ]
  },
  {
   "cell_type": "markdown",
   "metadata": {
    "id": "EILVGu48UsH-"
   },
   "source": [
    "Check for winning condition by comparing the elements of list. If player has won the game print `'You Win'`"
   ]
  },
  {
   "cell_type": "code",
   "execution_count": null,
   "metadata": {
    "id": "GYkZdiA6Uote"
   },
   "outputs": [],
   "source": [
    "# Check for winning condition\n",
    "if positions == ['B', 'B', 'B', '-', 'G', 'G', 'G']:\n",
    "    print(\"You Win\")\n"
   ]
  },
  {
   "cell_type": "markdown",
   "metadata": {
    "id": "a2a0HHjiUyQ8"
   },
   "source": [
    "Now the game should keep running until the player quits, so place all conditional statements inside an infinite loop.<br>\n",
    "\n",
    "1. We have to `'break'` the loop if the player presses `'q'` and quits.\n",
    "\n",
    "2. If the move made by player is `'Invalid Move'` then we have to `'continue'` without executing remaining part of the selected iteration.\n",
    "\n",
    "3. If player wins the game we have to `break` the loop.\n",
    "\n",
    "\n",
    "```\n",
    "Infinite loop:\n",
    "    (inside loop)\n",
    "    1.Take input\n",
    "    2.Check all valid and invalid conditions of `pos`.\n",
    "    3.Make the appropriate move by calculating `pos2`.\n",
    "    4.Display game\n",
    "    4.Check winning condition\n",
    "```"
   ]
  },
  {
   "cell_type": "code",
   "execution_count": null,
   "metadata": {
    "colab": {
     "base_uri": "https://localhost:8080/"
    },
    "executionInfo": {
     "elapsed": 393193,
     "status": "ok",
     "timestamp": 1705575741327,
     "user": {
      "displayName": "Vivega B",
      "userId": "02648695287076950773"
     },
     "user_tz": -330
    },
    "id": "J1stXTjGFBRE",
    "outputId": "0c599b62-21ab-44ab-9404-019a88230f34"
   },
   "outputs": [
    {
     "name": "stdout",
     "output_type": "stream",
     "text": [
      "Press 'q' to quit, else\n",
      "Enter position of piece: 4\n",
      "[ 0 1 2 3 4 5 6 ]\n",
      "['G', 'G', 'B', 'G', '-', 'B', 'B']\n",
      "Press 'q' to quit, else\n",
      "Enter position of piece: 2\n",
      "Invalid Move\n",
      "Press 'q' to quit, else\n",
      "Enter position of piece: 5\n",
      "[ 0 1 2 3 4 5 6 ]\n",
      "['G', 'G', 'B', 'G', 'B', '-', 'B']\n",
      "Press 'q' to quit, else\n",
      "Enter position of piece: q\n",
      "You Lose\n"
     ]
    }
   ],
   "source": [
    "# Infinite loop\n",
    "while True:\n",
    "    # 1. Take input\n",
    "    user_input = input(\"Press 'q' to quit, else\\nEnter position of piece: \")\n",
    "\n",
    "    # Check if the player quits\n",
    "    if user_input.lower() == 'q':\n",
    "        print(\"You Lose\")\n",
    "        break  # Break the loop if the player quits\n",
    "\n",
    "    # 2. Convert input to integer\n",
    "    pos = int(user_input)\n",
    "\n",
    "    # 3. Check all valid and invalid conditions of pos\n",
    "    if pos < 0 or pos > 6:\n",
    "        print(\"Invalid move\")\n",
    "        continue  # Continue to the next iteration if the move is invalid\n",
    "\n",
    "    # Check if the selected position corresponds to the position of an empty leaf\n",
    "    if positions[pos] == '-':\n",
    "        print(\"Invalid move\")\n",
    "        continue  # Continue to the next iteration if the move is invalid\n",
    "\n",
    "    # 4. Make the appropriate move by calculating pos2\n",
    "    pos2 = 0  # Initialize pos2\n",
    "    if positions[pos] == 'G':\n",
    "        # Condition 1\n",
    "        if pos + 1 <= 6 and positions[pos + 1] == '-':\n",
    "            pos2 = pos + 1\n",
    "        # Condition 2\n",
    "        elif pos + 2 <= 6 and positions[pos + 2] == '-' and positions[pos + 1] == 'B':\n",
    "            pos2 = pos + 2\n",
    "        # Condition 3\n",
    "        else:\n",
    "            print(\"Invalid Move\")\n",
    "            continue  # Continue to the next iteration if the move is invalid\n",
    "    elif positions[pos] == 'B':\n",
    "        # Condition 1\n",
    "        if pos - 1 >= 0 and positions[pos - 1] == '-':\n",
    "            pos2 = pos - 1\n",
    "        # Condition 2\n",
    "        elif pos - 2 >= 0 and positions[pos - 2] == '-' and positions[pos - 1] == 'G':\n",
    "            pos2 = pos - 2\n",
    "        # Condition 3\n",
    "        else:\n",
    "            print(\"Invalid Move\")\n",
    "            continue  # Continue to the next iteration if the move is invalid\n",
    "\n",
    "    # Swap elements at selected position and pos2\n",
    "    positions[pos], positions[pos2] = positions[pos2], positions[pos]\n",
    "\n",
    "    # 5. Display game\n",
    "    print(\"[\", end=\" \")\n",
    "    for i in range(len(positions)):\n",
    "        print(i, end=\" \")\n",
    "    print(\"]\")\n",
    "    print(positions)\n",
    "\n",
    "    # 6. Check winning condition\n",
    "    if positions == ['B', 'B', 'B', '-', 'G', 'G', 'G']:\n",
    "        print(\"You Win\")\n",
    "        break  # Break the loop if the player wins\n"
   ]
  },
  {
   "cell_type": "code",
   "execution_count": null,
   "metadata": {
    "colab": {
     "base_uri": "https://localhost:8080/",
     "height": 192
    },
    "executionInfo": {
     "elapsed": 526,
     "status": "error",
     "timestamp": 1705489351708,
     "user": {
      "displayName": "Rushikesh Konapure",
      "userId": "14876714731917346122"
     },
     "user_tz": -330
    },
    "id": "KXzMlSvwFBFY",
    "outputId": "e92c376f-e554-43cc-9a99-980c3fde1cd4"
   },
   "outputs": [
    {
     "name": "stdout",
     "output_type": "stream",
     "text": [
      "####### Frog Leap Game #######\n",
      "[ 0 , 1 , 2  , 3 , 4  , 5 , 6 ]\n",
      " 🐸  🐸  -   🐻  🐸  🐻  🐻 \n",
      "\n"
     ]
    }
   ],
   "source": [
    "from IPython.display import clear_output\n",
    "\n",
    "def display_game(positions):\n",
    "    print(\"####### Frog Leap Game #######\")\n",
    "    print(\"[ 0 , 1 , 2  , 3 , 4  , 5 , 6 ]\")\n",
    "    \n",
    "    for frog in positions:\n",
    "        if frog == 'G':\n",
    "            print(' 🐸', end=' ')\n",
    "        elif frog == 'B':\n",
    "            print(' 🐻', end=' ')\n",
    "        else:\n",
    "            print(' - ', end=' ')\n",
    "    print(\"\\n\")\n",
    "\n",
    "positions = list(['G', 'G', 'G', '-', 'B', 'B', 'B'])\n",
    "\n",
    "while True:\n",
    "    clear_output()\n",
    "    display_game(positions)\n",
    "\n",
    "    pos = input(\"Press 'q' to quit, else\\nEnter position of piece:\")\n",
    "\n",
    "    if pos.lower() == 'q' or pos.lower() == 'quit':\n",
    "        print(\"YOU LOSE!!\")\n",
    "        break\n",
    "\n",
    "    pos = int(pos)\n",
    "\n",
    "    if pos < 0 or pos > 6:\n",
    "        print(\"Invalid move\")\n",
    "        continue\n",
    "\n",
    "    if positions[pos] == '-':\n",
    "        print(\"Invalid move\")\n",
    "        continue\n",
    "\n",
    "    if positions[pos] == 'G':\n",
    "        if (pos + 1) <= 6 and positions[pos + 1] == '-':\n",
    "            pass\n",
    "        elif (pos + 2) <= 6 and positions[pos + 2] == '-' and positions[pos + 1] == 'B':\n",
    "            pass\n",
    "        else:\n",
    "            print(\"Invalid move\")\n",
    "            break\n",
    "\n",
    "    if positions[pos] == 'B':\n",
    "        if (pos - 1) >= 0 and positions[pos - 1] == '-':\n",
    "            pass\n",
    "        elif (pos - 2) >= 0 and positions[pos - 2] == '-' and positions[pos - 1] == 'G':\n",
    "            pass\n",
    "        else:\n",
    "            print(\"Invalid move\")\n",
    "\n",
    "    pos2 = 0\n",
    "\n",
    "    if positions[pos] == 'G':\n",
    "        if positions[pos + 1] == '-':\n",
    "            pos2 = pos + 1\n",
    "        elif positions[pos + 2] == '-':\n",
    "            pos2 = pos + 2\n",
    "\n",
    "    if positions[pos] == 'B':\n",
    "        if positions[pos - 1] == '-':\n",
    "            pos2 = pos - 1\n",
    "        elif positions[pos - 2] == '-':\n",
    "            pos2 = pos - 2\n",
    "\n",
    "    positions[pos], positions[pos2] = positions[pos2], positions[pos]\n",
    "\n",
    "    if positions == ['B', 'B', 'B', '-', 'G', 'G', 'G']:\n",
    "        clear_output()\n",
    "        display_game(positions)\n",
    "        print(\"Congratulations you have done it\")\n",
    "        break\n"
   ]
  },
  {
   "cell_type": "code",
   "execution_count": null,
   "metadata": {},
   "outputs": [],
   "source": []
  },
  {
   "cell_type": "code",
   "execution_count": null,
   "metadata": {},
   "outputs": [],
   "source": []
  }
 ],
 "metadata": {
  "colab": {
   "provenance": [
    {
     "file_id": "1XYNUhpUwuikGuz-kU5AmGoqC0_i3lUEo",
     "timestamp": 1705577242864
    }
   ]
  },
  "kernelspec": {
   "display_name": "Python 3 (ipykernel)",
   "language": "python",
   "name": "python3"
  },
  "language_info": {
   "codemirror_mode": {
    "name": "ipython",
    "version": 3
   },
   "file_extension": ".py",
   "mimetype": "text/x-python",
   "name": "python",
   "nbconvert_exporter": "python",
   "pygments_lexer": "ipython3",
   "version": "3.11.5"
  }
 },
 "nbformat": 4,
 "nbformat_minor": 1
}
